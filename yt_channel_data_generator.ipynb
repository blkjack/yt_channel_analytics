{
 "cells": [
  {
   "cell_type": "code",
   "execution_count": 5,
   "metadata": {},
   "outputs": [],
   "source": [
    "import pandas as pd\n",
    "import numpy as np\n",
    "from datetime import datetime, timedelta\n",
    "\n",
    "np.random.seed(26)"
   ]
  },
  {
   "cell_type": "code",
   "execution_count": 6,
   "metadata": {},
   "outputs": [],
   "source": [
    "# Define date range (5 years of daily data)\n",
    "start_date = datetime(2019, 1, 1)\n",
    "end_date = datetime(2024, 12, 31)\n",
    "date_series = pd.date_range(start=start_date, end=end_date, freq='D')"
   ]
  },
  {
   "cell_type": "code",
   "execution_count": 9,
   "metadata": {},
   "outputs": [
    {
     "data": {
      "text/html": [
       "<div>\n",
       "<style scoped>\n",
       "    .dataframe tbody tr th:only-of-type {\n",
       "        vertical-align: middle;\n",
       "    }\n",
       "\n",
       "    .dataframe tbody tr th {\n",
       "        vertical-align: top;\n",
       "    }\n",
       "\n",
       "    .dataframe thead th {\n",
       "        text-align: right;\n",
       "    }\n",
       "</style>\n",
       "<table border=\"1\" class=\"dataframe\">\n",
       "  <thead>\n",
       "    <tr style=\"text-align: right;\">\n",
       "      <th></th>\n",
       "      <th>DATE</th>\n",
       "      <th>SUBSCRIBERS_GAINED</th>\n",
       "      <th>SUBSCRIBERS_LOST</th>\n",
       "      <th>VIEWS</th>\n",
       "      <th>WATCH_HOURS</th>\n",
       "      <th>LIKES</th>\n",
       "      <th>SHARES</th>\n",
       "      <th>COMMENTS</th>\n",
       "    </tr>\n",
       "  </thead>\n",
       "  <tbody>\n",
       "    <tr>\n",
       "      <th>0</th>\n",
       "      <td>2019-01-01</td>\n",
       "      <td>0</td>\n",
       "      <td>0</td>\n",
       "      <td>0</td>\n",
       "      <td>0</td>\n",
       "      <td>0</td>\n",
       "      <td>0</td>\n",
       "      <td>0</td>\n",
       "    </tr>\n",
       "    <tr>\n",
       "      <th>1</th>\n",
       "      <td>2019-01-02</td>\n",
       "      <td>0</td>\n",
       "      <td>0</td>\n",
       "      <td>0</td>\n",
       "      <td>0</td>\n",
       "      <td>0</td>\n",
       "      <td>0</td>\n",
       "      <td>0</td>\n",
       "    </tr>\n",
       "    <tr>\n",
       "      <th>2</th>\n",
       "      <td>2019-01-03</td>\n",
       "      <td>0</td>\n",
       "      <td>0</td>\n",
       "      <td>0</td>\n",
       "      <td>0</td>\n",
       "      <td>0</td>\n",
       "      <td>0</td>\n",
       "      <td>0</td>\n",
       "    </tr>\n",
       "    <tr>\n",
       "      <th>3</th>\n",
       "      <td>2019-01-04</td>\n",
       "      <td>0</td>\n",
       "      <td>0</td>\n",
       "      <td>0</td>\n",
       "      <td>0</td>\n",
       "      <td>0</td>\n",
       "      <td>0</td>\n",
       "      <td>0</td>\n",
       "    </tr>\n",
       "    <tr>\n",
       "      <th>4</th>\n",
       "      <td>2019-01-05</td>\n",
       "      <td>0</td>\n",
       "      <td>0</td>\n",
       "      <td>0</td>\n",
       "      <td>0</td>\n",
       "      <td>0</td>\n",
       "      <td>0</td>\n",
       "      <td>0</td>\n",
       "    </tr>\n",
       "  </tbody>\n",
       "</table>\n",
       "</div>"
      ],
      "text/plain": [
       "        DATE  SUBSCRIBERS_GAINED  SUBSCRIBERS_LOST  VIEWS  WATCH_HOURS  LIKES  \\\n",
       "0 2019-01-01                   0                 0      0            0      0   \n",
       "1 2019-01-02                   0                 0      0            0      0   \n",
       "2 2019-01-03                   0                 0      0            0      0   \n",
       "3 2019-01-04                   0                 0      0            0      0   \n",
       "4 2019-01-05                   0                 0      0            0      0   \n",
       "\n",
       "   SHARES  COMMENTS  \n",
       "0       0         0  \n",
       "1       0         0  \n",
       "2       0         0  \n",
       "3       0         0  \n",
       "4       0         0  "
      ]
     },
     "execution_count": 9,
     "metadata": {},
     "output_type": "execute_result"
    }
   ],
   "source": [
    "# Initialize dataset with zero values\n",
    "num_days = len(date_series)\n",
    "data = {\n",
    "    'DATE': date_series,\n",
    "    'SUBSCRIBERS_GAINED': np.zeros(num_days, dtype=int),\n",
    "    'SUBSCRIBERS_LOST': np.zeros(num_days, dtype=int),\n",
    "    'VIEWS': np.zeros(num_days, dtype=int),\n",
    "    'WATCH_HOURS': np.zeros(num_days, dtype=int),\n",
    "    'LIKES': np.zeros(num_days, dtype=int),\n",
    "    'SHARES': np.zeros(num_days, dtype=int),\n",
    "    'COMMENTS': np.zeros(num_days, dtype=int)\n",
    "}\n",
    "df = pd.DataFrame(data)\n",
    "df.head()"
   ]
  },
  {
   "cell_type": "code",
   "execution_count": 10,
   "metadata": {},
   "outputs": [],
   "source": [
    "# Function to generate linear growth trend\n",
    "def generate_linear_growth(start_value, end_value, num_days):\n",
    "    return np.linspace(start_value, end_value, num_days)\n",
    "\n",
    "# This function creates a smooth, linear growth trend from start_value to end_value over num_days.\n",
    "# It generates an array of numbers where each value is evenly spaced between the start and end values.\n",
    "# generate_linear_growth(start_value=100, end_value=1000, num_days=10) => [100, 200, 300, 400, 500, 600, 700, 800, 900, 1000]"
   ]
  },
  {
   "cell_type": "code",
   "execution_count": 11,
   "metadata": {},
   "outputs": [],
   "source": [
    "# Simulate growth patterns for different metrics\n",
    "subscribers_gained = generate_linear_growth(1, 200, num_days)\n",
    "subscribers_lost = generate_linear_growth(0, 50, num_days)\n",
    "views = generate_linear_growth(10, 10000, num_days)\n",
    "watch_hours = generate_linear_growth(1, 1000, num_days)\n",
    "likes = generate_linear_growth(0, 500, num_days)\n",
    "shares = generate_linear_growth(0, 100, num_days)\n",
    "comments = generate_linear_growth(0, 50, num_days)"
   ]
  },
  {
   "cell_type": "code",
   "execution_count": 12,
   "metadata": {},
   "outputs": [],
   "source": [
    "# Apply randomness and ensure integer values\n",
    "metrics = ['SUBSCRIBERS_GAINED', 'SUBSCRIBERS_LOST', 'VIEWS', 'WATCH_HOURS', 'LIKES', 'SHARES', 'COMMENTS']\n",
    "for metric, growth_trend in zip(metrics, [subscribers_gained, subscribers_lost, views, watch_hours, likes, shares, comments]):\n",
    "    noise_factor = np.random.normal(1, 0.1, num_days)  # Introduce variation\n",
    "    df[metric] = np.maximum(0, (growth_trend * noise_factor).astype(int))  # Ensure values remain non-negative"
   ]
  },
  {
   "cell_type": "code",
   "execution_count": 14,
   "metadata": {},
   "outputs": [],
   "source": [
    "# Apply weekend boost (increase views, watch hours, and likes on weekends)\n",
    "is_weekend = df['DATE'].dt.dayofweek >= 5  # Saturday (5) and Sunday (6)\n",
    "df.loc[is_weekend, ['VIEWS', 'WATCH_HOURS', 'LIKES']] = (\n",
    "    df.loc[is_weekend, ['VIEWS', 'WATCH_HOURS', 'LIKES']] * 1.5\n",
    ").astype(int)"
   ]
  },
  {
   "cell_type": "code",
   "execution_count": null,
   "metadata": {},
   "outputs": [],
   "source": [
    "# Introduce seasonal variation (higher activity in summer)\n",
    "days_in_year = 366  # Account for leap years\n",
    "seasonal_boost = np.sin(np.linspace(0, 2 * np.pi, days_in_year))  # Simulates annual trends\n",
    "df['VIEWS'] *= (1 + 0.2 * seasonal_boost[df['DATE'].dt.dayofyear - 1])"
   ]
  }
 ],
 "metadata": {
  "kernelspec": {
   "display_name": "base",
   "language": "python",
   "name": "python3"
  },
  "language_info": {
   "codemirror_mode": {
    "name": "ipython",
    "version": 3
   },
   "file_extension": ".py",
   "mimetype": "text/x-python",
   "name": "python",
   "nbconvert_exporter": "python",
   "pygments_lexer": "ipython3",
   "version": "3.11.5"
  }
 },
 "nbformat": 4,
 "nbformat_minor": 2
}
